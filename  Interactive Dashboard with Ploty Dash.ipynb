{
    "cells": [
        {
            "cell_type": "code",
            "execution_count": 1,
            "metadata": {},
            "outputs": [],
            "source": "url = \"https://cf-courses-data.s3.us.cloud-object-storage.appdomain.cloud/IBM-DS0321EN-SkillsNetwork/datasets/spacex_launch_dash.csv\""
        },
        {
            "cell_type": "code",
            "execution_count": 2,
            "metadata": {
                "scrolled": true
            },
            "outputs": [
                {
                    "name": "stderr",
                    "output_type": "stream",
                    "text": "<ipython-input-2-75809e5439eb>:3: UserWarning: \nThe dash_html_components package is deprecated. Please replace\n`import dash_html_components as html` with `from dash import html`\n  import dash_html_components as html\n<ipython-input-2-75809e5439eb>:4: UserWarning: \nThe dash_core_components package is deprecated. Please replace\n`import dash_core_components as dcc` with `from dash import dcc`\n  import dash_core_components as dcc\n"
                },
                {
                    "name": "stdout",
                    "output_type": "stream",
                    "text": "Dash is running on http://127.0.0.1:8050/\n\n * Serving Flask app '__main__' (lazy loading)\n * Environment: production\n\u001b[31m   WARNING: This is a development server. Do not use it in a production deployment.\u001b[0m\n\u001b[2m   Use a production WSGI server instead.\u001b[0m\n * Debug mode: off\n"
                },
                {
                    "name": "stderr",
                    "output_type": "stream",
                    "text": " * Running on http://127.0.0.1:8050/ (Press CTRL+C to quit)\n"
                }
            ],
            "source": "import pandas as pd\nimport dash\nimport dash_html_components as html\nimport dash_core_components as dcc\nfrom dash.dependencies import Input, Output\nimport plotly.express as px\n\n# Read the airline data into pandas dataframe\nspacex_df = pd.read_csv(url)\nmax_payload = spacex_df['Payload Mass (kg)'].max()\nmin_payload = spacex_df['Payload Mass (kg)'].min()\n\n# Create a dash application\napp = dash.Dash(__name__)\n\n# Create an app layout\napp.layout = html.Div(children=[html.H1('SpaceX Launch Records Dashboard',\n                                        style={'textAlign': 'center', 'color': '#503D36',\n                                               'font-size': 40}),\n                                # TASK 1: Add a dropdown list to enable Launch Site selection\n                                # The default select value is for ALL sites\n                                dcc.Dropdown(id='site-dropdown',\n                                options=[{'label':'All Sites','value':'ALL'},\n                                {'label':'CCAFS SLC-40','value':'CCAFS SLC-40'},\n                                {'label':'KSC LC-39A','value':'KSC LC-39A'},\n                                {'label':'VAFB SLC-4E','value':'VAFB SLC-4E'}],\n                                value ='ALL',\n                                placeholder='Select Launch Site here :',\n                                searchable=True),\n                                 \n                                html.Br(),\n\n                                # TASK 2: Add a pie chart to show the total successful launches count for all sites\n                                # If a specific launch site was selected, show the Success vs. Failed counts for the site\n                                html.Div(dcc.Graph(id='success-pie-chart')),\n                                html.Br(),\n\n                                html.P(\"Payload range (Kg):\"),\n                                # TASK 3: Add a slider to select payload range\n                                #dcc.RangeSlider(id='payload-slider',...)\n                                dcc.RangeSlider(id='payload-slider',\n                                                min=0,\n                                                max=10000,\n                                                step=1000,\n                                                value=[min_payload, max_payload]),\n                                # TASK 4: Add a scatter chart to show the correlation between payload and launch success\n                                html.Div(dcc.Graph(id='success-payload-scatter-chart')),\n                                ])\n\n# TASK 2:\n# Add a callback function for `site-dropdown` as input, `success-pie-chart` as output\n@app.callback(Output(component_id='success-pie-chart',component_property='figure'),\n              Input(component_id='site-dropdown',component_property='value'))\n\ndef render_pie(site_dropdown):\n\n    if site_dropdown == 'ALL':      \n        fig = px.pie(spacex_df, values='class', names='Launch Site', title=\"Success launches for site\")\n        return fig\n\n    else:\n        dropdown_pie= spacex_df[spacex_df['Launch Site'] == site_dropdown]\n        dropdown_pie_class = dropdown_pie.groupby(['Launch Site','class']).size().reset_index(name='class count')       \n        fig = px.pie(dropdown_pie_class, values='class count', names='class', title=\"Success launches for site\")\n        return fig\n\n@app.callback( Output(component_id='success-payload-scatter-chart',component_property='figure'),\n [Input(component_id='site-dropdown',component_property='value'),\n  Input(component_id='payload-slider',component_property='value')]) \n\ndef render_scatter(site_dropdown,slider_range):\n    \n    low, high = slider_range\n    slide = (spacex_df['Payload Mass (kg)'] > low) & (spacex_df['Payload Mass (kg)'] < high)\n    dropdown_scatter=spacex_df[slide]\n\n    if site_dropdown == 'ALL':\n        title_scatter = f\"Payload and Booster Versions for site: {site_dropdown}\"\n        fig = px.scatter(dropdown_scatter)\n        return fig\n\n    else:\n        dropdown_scatter1= dropdown_scatter[dropdown_scatter['Launch Site'] == site_dropdown]\n        title_scatter = f\"Payload and Booster Versions for site {site_dropdown}\"\n        fig = px.scatter(dropdown_scatter1, x=\"Payload Mass (kg)\", y=\"class\", color=\"Booster Version Category\", title=title_scatter)\n        return fig\n\n# Run the app\nif __name__ == '__main__':\n    app.run_server()"
        },
        {
            "cell_type": "code",
            "execution_count": null,
            "metadata": {},
            "outputs": [],
            "source": ""
        }
    ],
    "metadata": {
        "kernelspec": {
            "display_name": "Python 3.8",
            "language": "python",
            "name": "python3"
        },
        "language_info": {
            "codemirror_mode": {
                "name": "ipython",
                "version": 3
            },
            "file_extension": ".py",
            "mimetype": "text/x-python",
            "name": "python",
            "nbconvert_exporter": "python",
            "pygments_lexer": "ipython3",
            "version": "3.8.11"
        }
    },
    "nbformat": 4,
    "nbformat_minor": 4
}